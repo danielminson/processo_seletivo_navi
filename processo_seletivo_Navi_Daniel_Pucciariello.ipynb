{
 "cells": [
  {
   "cell_type": "markdown",
   "metadata": {},
   "source": [
    "## Processo seletivo Navi - férias de verão\n",
    "#### Daniel Pucciariello"
   ]
  },
  {
   "cell_type": "markdown",
   "metadata": {},
   "source": [
    "### Questão 1:"
   ]
  },
  {
   "cell_type": "code",
   "execution_count": 189,
   "metadata": {},
   "outputs": [],
   "source": [
    "import numpy as np\n",
    "import pandas as pd\n",
    "from math import *"
   ]
  },
  {
   "cell_type": "code",
   "execution_count": 37,
   "metadata": {},
   "outputs": [],
   "source": [
    "lista=np.arange(1, 5000000)"
   ]
  },
  {
   "cell_type": "code",
   "execution_count": 38,
   "metadata": {},
   "outputs": [],
   "source": [
    "nova_lista=[]\n",
    "for i in lista:\n",
    "    if i%49 ==0:\n",
    "        if i%37 ==0:\n",
    "            if i%2 ==0:\n",
    "                nova_lista.append(i)"
   ]
  },
  {
   "cell_type": "code",
   "execution_count": 64,
   "metadata": {},
   "outputs": [
    {
     "name": "stdout",
     "output_type": "stream",
     "text": [
      "A quantidade de números que cumprem os parametros é de 1378 .\n"
     ]
    }
   ],
   "source": [
    "print(\"A quantidade de números que cumprem os parametros é de\", len(nova_lista),\".\")"
   ]
  },
  {
   "cell_type": "markdown",
   "metadata": {},
   "source": [
    "### Questão 2:"
   ]
  },
  {
   "cell_type": "code",
   "execution_count": 96,
   "metadata": {},
   "outputs": [],
   "source": [
    "x_inicial=[]\n",
    "for i in range(10):\n",
    "    x_inicial.append(i)\n",
    "x=[]\n",
    "for i in range(10):\n",
    "    x.append(i)"
   ]
  },
  {
   "cell_type": "code",
   "execution_count": 97,
   "metadata": {},
   "outputs": [
    {
     "data": {
      "text/plain": [
       "[0, 1, 2, 3, 4, 5, 6, 7, 8, 9]"
      ]
     },
     "execution_count": 97,
     "metadata": {},
     "output_type": "execute_result"
    }
   ],
   "source": [
    "x_inicial"
   ]
  },
  {
   "cell_type": "code",
   "execution_count": 98,
   "metadata": {},
   "outputs": [],
   "source": [
    "x=[]\n",
    "for i in x_inicial:\n",
    "    if i%2 ==0:\n",
    "        x.append(3**i+7*factorial(i))\n",
    "    else:\n",
    "        x.append(2**i+7*np.log(i))"
   ]
  },
  {
   "cell_type": "code",
   "execution_count": 99,
   "metadata": {},
   "outputs": [
    {
     "data": {
      "text/plain": [
       "[8,\n",
       " 2.0,\n",
       " 23,\n",
       " 15.69028602067677,\n",
       " 249,\n",
       " 43.2660653870387,\n",
       " 5769,\n",
       " 141.6213710433872,\n",
       " 288801,\n",
       " 527.3805720413535]"
      ]
     },
     "execution_count": 99,
     "metadata": {},
     "output_type": "execute_result"
    }
   ],
   "source": [
    "x"
   ]
  },
  {
   "cell_type": "code",
   "execution_count": 100,
   "metadata": {},
   "outputs": [
    {
     "name": "stdout",
     "output_type": "stream",
     "text": [
      "A posição no vetor é a 8 pensando de 0 até 9 ou a 9 ª pensando de 1-10.\n",
      "O valor médio dos elementos de x é 29558.00\n"
     ]
    }
   ],
   "source": [
    "print(\"A posição no vetor é a\",x.index(max(x)), \"pensando de 0 até 9 ou a\",x.index(max(x))+1,\"ª pensando de 1 até 10.\")\n",
    "print(\"O valor médio dos elementos de x é\",format(np.mean(x),\".2F\"))"
   ]
  },
  {
   "cell_type": "markdown",
   "metadata": {},
   "source": [
    "# Exercício 3"
   ]
  },
  {
   "cell_type": "markdown",
   "metadata": {},
   "source": [
    "### Resolução tipo 1: considerando uma planilha com os dados."
   ]
  },
  {
   "cell_type": "code",
   "execution_count": 219,
   "metadata": {},
   "outputs": [
    {
     "data": {
      "text/plain": [
       "0    5.0\n",
       "1    7.0\n",
       "2    8.0\n",
       "3    6.5\n",
       "4    8.3\n",
       "Name: Nota, dtype: float64"
      ]
     },
     "execution_count": 219,
     "metadata": {},
     "output_type": "execute_result"
    }
   ],
   "source": [
    "df = pd.read_excel(\"notas_questao_3.xlsx\")\n",
    "df[\"Nota\"]"
   ]
  },
  {
   "cell_type": "code",
   "execution_count": 223,
   "metadata": {},
   "outputs": [],
   "source": [
    "dict2 = {} \n",
    "notas =df[\"Nota\"].tolist()\n",
    "nomes=df[\"Nome\"].tolist()\n",
    "for key in nomes: \n",
    "    for value in notas: \n",
    "        dict2[key] = [value]\n",
    "        notas.remove(value) \n",
    "        break"
   ]
  },
  {
   "cell_type": "code",
   "execution_count": 224,
   "metadata": {
    "scrolled": true
   },
   "outputs": [
    {
     "data": {
      "text/plain": [
       "{'Jose ': [5.0],\n",
       " 'Pedro': [7.0],\n",
       " 'Cristovan': [8.0],\n",
       " 'Josefina': [6.5],\n",
       " 'Cristiane': [8.3]}"
      ]
     },
     "execution_count": 224,
     "metadata": {},
     "output_type": "execute_result"
    }
   ],
   "source": [
    "dict2"
   ]
  },
  {
   "cell_type": "markdown",
   "metadata": {},
   "source": [
    "## Resolução tipo 2: considerando um dicionário com as notas."
   ]
  },
  {
   "cell_type": "code",
   "execution_count": null,
   "metadata": {},
   "outputs": [],
   "source": [
    "dic_nome_notas={\"Jose\":[5], \"Pedro\":[7], \"Cristovan\":[8],\"Josefina\":[6.5], \"Cristiane\":[8.3]}"
   ]
  },
  {
   "cell_type": "code",
   "execution_count": 217,
   "metadata": {},
   "outputs": [
    {
     "name": "stdout",
     "output_type": "stream",
     "text": [
      "A maior nota é de Cristiane : 8.3\n"
     ]
    }
   ],
   "source": [
    "for i, k in dic_nome_notas.items():\n",
    "    b=0\n",
    "    for e in k:\n",
    "        if e>b:\n",
    "            b=e\n",
    "            dono_maior_nota=i\n",
    "print(\"A maior nota é de\", i,\":\", b)"
   ]
  },
  {
   "cell_type": "code",
   "execution_count": null,
   "metadata": {},
   "outputs": [],
   "source": []
  }
 ],
 "metadata": {
  "kernelspec": {
   "display_name": "Python 3",
   "language": "python",
   "name": "python3"
  },
  "language_info": {
   "codemirror_mode": {
    "name": "ipython",
    "version": 3
   },
   "file_extension": ".py",
   "mimetype": "text/x-python",
   "name": "python",
   "nbconvert_exporter": "python",
   "pygments_lexer": "ipython3",
   "version": "3.8.3"
  }
 },
 "nbformat": 4,
 "nbformat_minor": 4
}
